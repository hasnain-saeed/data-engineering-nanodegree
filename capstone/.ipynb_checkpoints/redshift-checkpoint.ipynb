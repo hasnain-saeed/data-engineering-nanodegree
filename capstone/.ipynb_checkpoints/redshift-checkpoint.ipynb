{
 "cells": [
  {
   "cell_type": "code",
   "execution_count": 7,
   "metadata": {
    "editable": true
   },
   "outputs": [],
   "source": [
    "import boto3\n",
    "import json\n",
    "import pandas as pd\n",
    "import configparser"
   ]
  },
  {
   "cell_type": "code",
   "execution_count": 8,
   "metadata": {
    "editable": true
   },
   "outputs": [],
   "source": [
    "config = configparser.ConfigParser()\n",
    "config.read_file(open('capstone.cfg'))"
   ]
  },
  {
   "cell_type": "code",
   "execution_count": 9,
   "metadata": {
    "editable": true
   },
   "outputs": [],
   "source": [
    "iam_client = boto3.client('iam',\n",
    "                       region_name=config.get('AWS','REGION'),\n",
    "                       aws_access_key_id=config.get('AWS','AWS_ACCESS_KEY_ID'),\n",
    "                       aws_secret_access_key=config.get('AWS','AWS_SECRET_ACCESS_KEY')\n",
    "                      )\n",
    "\n",
    "redshift_client = boto3.client('redshift',\n",
    "                        region_name=config.get('AWS','REGION'),\n",
    "                        aws_access_key_id=config.get('AWS','AWS_ACCESS_KEY_ID'),\n",
    "                        aws_secret_access_key=config.get('AWS','AWS_SECRET_ACCESS_KEY')\n",
    "                       )\n",
    "\n",
    "ec2_client = boto3.resource('ec2',\n",
    "                   region_name=config.get('AWS','REGION'),\n",
    "                   aws_access_key_id=config.get('AWS','AWS_ACCESS_KEY_ID'),\n",
    "                   aws_secret_access_key=config.get('AWS','AWS_SECRET_ACCESS_KEY')\n",
    "                  )\n"
   ]
  },
  {
   "cell_type": "code",
   "execution_count": 10,
   "metadata": {
    "editable": true
   },
   "outputs": [
    {
     "name": "stdout",
     "output_type": "stream",
     "text": [
      "===== Creating a new IAM Role =====\n",
      "===== Attaching AmazonS3ReadOnlyAccess policy with the IAM Role =====\n"
     ]
    }
   ],
   "source": [
    "try:\n",
    "    print('===== Creating a new IAM Role =====')\n",
    "    iam_client.create_role(\n",
    "        Path='/',\n",
    "        RoleName=config.get('IAM_ROLE','IAM_ROLE_NAME'),\n",
    "        Description = \"Allows Redshift clusters to call AWS services on your behalf.\",\n",
    "        AssumeRolePolicyDocument=json.dumps(\n",
    "            {\n",
    "                'Statement': [{\n",
    "                    'Action': 'sts:AssumeRole',\n",
    "                    'Effect': 'Allow',\n",
    "                    'Principal': {\n",
    "                        'Service': 'redshift.amazonaws.com'\n",
    "                    }\n",
    "                }],\n",
    "                'Version': '2012-10-17'\n",
    "            }\n",
    "        )\n",
    "    )\n",
    "\n",
    "    print('===== Attaching AmazonS3ReadOnlyAccess policy with the IAM Role =====')\n",
    "    iam_client.attach_role_policy(\n",
    "        RoleName=config.get('IAM_ROLE','IAM_ROLE_NAME'),\n",
    "        PolicyArn=\"arn:aws:iam::aws:policy/AmazonS3ReadOnlyAccess\"\n",
    "    )\n",
    "\n",
    "except Exception as e:\n",
    "    print(e)"
   ]
  },
  {
   "cell_type": "code",
   "execution_count": 12,
   "metadata": {
    "editable": true
   },
   "outputs": [
    {
     "name": "stdout",
     "output_type": "stream",
     "text": [
      "==== Creating Redshift Cluster =====\n"
     ]
    }
   ],
   "source": [
    "roleArn = iam_client.get_role(RoleName=config.get('IAM_ROLE','IAM_ROLE_NAME'))['Role']['Arn']\n",
    "\n",
    "try:\n",
    "    response = redshift_client.create_cluster(        \n",
    "        #HW\n",
    "        ClusterType=config.get('DWH','CLUSTER_TYPE'),\n",
    "        NodeType=config.get('DWH','NODE_TYPE'),\n",
    "        NumberOfNodes=int(config.get('DWH','NUM_NODES')),\n",
    "\n",
    "        #Identifiers & Credentials\n",
    "        DBName=config.get('CLUSTER','DB_NAME'),\n",
    "        ClusterIdentifier=config.get('CLUSTER','CLUSTER_IDENTIFIER'),\n",
    "        MasterUsername=config.get('CLUSTER','DB_USER'),\n",
    "        MasterUserPassword=config.get('CLUSTER','DB_PASSWORD'),\n",
    "\n",
    "        #Roles (for s3 access)\n",
    "        IamRoles=[roleArn]  \n",
    "    )\n",
    "    print(\"==== Creating Redshift Cluster =====\")\n",
    "except Exception as e:\n",
    "    print(e)"
   ]
  },
  {
   "cell_type": "code",
   "execution_count": 14,
   "metadata": {
    "editable": true
   },
   "outputs": [],
   "source": [
    "def pretty_redshift_props(props):\n",
    "    pd.set_option('display.max_colwidth', -1)\n",
    "    keys_to_show = [\"ClusterIdentifier\", \"NodeType\", \"ClusterStatus\", \"MasterUsername\", \"DBName\", \"Endpoint\", \"NumberOfNodes\", 'VpcId']\n",
    "    x = [(k, v) for k,v in props.items() if k in keys_to_show]\n",
    "    return pd.DataFrame(data=x, columns=[\"Key\", \"Value\"])"
   ]
  },
  {
   "cell_type": "code",
   "execution_count": 15,
   "metadata": {
    "editable": true
   },
   "outputs": [],
   "source": [
    "def redshift_cluster_status(redshift_client, verbose=False):\n",
    "    if not redshift_client:\n",
    "        return\n",
    "    \n",
    "    cluster_props = redshift_client.describe_clusters(ClusterIdentifier=config.get('CLUSTER','CLUSTER_IDENTIFIER'))['Clusters'][0]\n",
    "    if verbose:\n",
    "        print(pretty_redshift_props(cluster_props))\n",
    "    return cluster_props"
   ]
  },
  {
   "cell_type": "code",
   "execution_count": 18,
   "metadata": {
    "editable": true
   },
   "outputs": [
    {
     "data": {
      "text/plain": [
       "'arn:aws:iam::308990863356:role/capstoneRole'"
      ]
     },
     "execution_count": 18,
     "metadata": {},
     "output_type": "execute_result"
    }
   ],
   "source": [
    "roleArn"
   ]
  },
  {
   "cell_type": "code",
   "execution_count": 19,
   "metadata": {
    "editable": true
   },
   "outputs": [],
   "source": [
    "def open_access_to_cluster(ec2_client, redshift_client):\n",
    "    cluster_props = redshift_cluster_status(redshift_client)\n",
    "    if not cluster_props:\n",
    "        return\n",
    "    \n",
    "    try:\n",
    "        vpc = ec2_client.Vpc(id=cluster_props['VpcId'])\n",
    "        defaultSg = list(vpc.security_groups.all())[0]\n",
    "        print(defaultSg)\n",
    "        port = int(config.get('CLUSTER','DB_PORT'))\n",
    "        defaultSg.authorize_ingress(\n",
    "            GroupName=defaultSg.group_name,\n",
    "            CidrIp='0.0.0.0/0',\n",
    "            IpProtocol='TCP',\n",
    "            FromPort=port,\n",
    "            ToPort=port\n",
    "        )\n",
    "    except Exception as e:\n",
    "        print(e)"
   ]
  },
  {
   "cell_type": "code",
   "execution_count": 20,
   "metadata": {
    "editable": true
   },
   "outputs": [],
   "source": [
    "def delete_aws_resources(iam_client, redshift_client):\n",
    "    if not redshift_client and not iam_client:\n",
    "        return\n",
    "    \n",
    "    redshift_client.delete_cluster(ClusterIdentifier=config.get('CLUSTER','CLUSTER_IDENTIFIER'), SkipFinalClusterSnapshot=True)\n",
    "    iam_client.detach_role_policy(RoleName=config.get('IAM_ROLE','IAM_ROLE_NAME'), PolicyArn=\"arn:aws:iam::aws:policy/AmazonS3ReadOnlyAccess\")\n",
    "    iam_client.delete_role(RoleName=config.get('IAM_ROLE','IAM_ROLE_NAME'))"
   ]
  },
  {
   "cell_type": "code",
   "execution_count": 21,
   "metadata": {
    "editable": true
   },
   "outputs": [
    {
     "name": "stdout",
     "output_type": "stream",
     "text": [
      "ec2.SecurityGroup(id='sg-0133c01b457d4df9f')\n"
     ]
    }
   ],
   "source": [
    "open_access_to_cluster(ec2_client, redshift_client)"
   ]
  },
  {
   "cell_type": "code",
   "execution_count": 23,
   "metadata": {
    "editable": true
   },
   "outputs": [
    {
     "name": "stdout",
     "output_type": "stream",
     "text": [
      "                 Key  \\\n",
      "0  ClusterIdentifier   \n",
      "1  NodeType            \n",
      "2  ClusterStatus       \n",
      "3  MasterUsername      \n",
      "4  DBName              \n",
      "5  Endpoint            \n",
      "6  VpcId               \n",
      "7  NumberOfNodes       \n",
      "\n",
      "                                                                                   Value  \n",
      "0  dwhcluster                                                                             \n",
      "1  dc2.large                                                                              \n",
      "2  available                                                                              \n",
      "3  dwhuser                                                                                \n",
      "4  dwh                                                                                    \n",
      "5  {'Address': 'dwhcluster.cqgurtquub8h.us-west-2.redshift.amazonaws.com', 'Port': 5439}  \n",
      "6  vpc-0720ee69b410d2f97                                                                  \n",
      "7  2                                                                                      \n"
     ]
    },
    {
     "data": {
      "text/plain": [
       "{'ClusterIdentifier': 'dwhcluster',\n",
       " 'NodeType': 'dc2.large',\n",
       " 'ClusterStatus': 'available',\n",
       " 'MasterUsername': 'dwhuser',\n",
       " 'DBName': 'dwh',\n",
       " 'Endpoint': {'Address': 'dwhcluster.cqgurtquub8h.us-west-2.redshift.amazonaws.com',\n",
       "  'Port': 5439},\n",
       " 'ClusterCreateTime': datetime.datetime(2022, 7, 15, 8, 0, 39, 56000, tzinfo=tzlocal()),\n",
       " 'AutomatedSnapshotRetentionPeriod': 1,\n",
       " 'ClusterSecurityGroups': [],\n",
       " 'VpcSecurityGroups': [{'VpcSecurityGroupId': 'sg-0e0a3e4a55c7be010',\n",
       "   'Status': 'active'}],\n",
       " 'ClusterParameterGroups': [{'ParameterGroupName': 'default.redshift-1.0',\n",
       "   'ParameterApplyStatus': 'in-sync'}],\n",
       " 'ClusterSubnetGroupName': 'default',\n",
       " 'VpcId': 'vpc-0720ee69b410d2f97',\n",
       " 'AvailabilityZone': 'us-west-2d',\n",
       " 'PreferredMaintenanceWindow': 'fri:07:00-fri:07:30',\n",
       " 'PendingModifiedValues': {},\n",
       " 'ClusterVersion': '1.0',\n",
       " 'AllowVersionUpgrade': True,\n",
       " 'NumberOfNodes': 2,\n",
       " 'PubliclyAccessible': True,\n",
       " 'Encrypted': False,\n",
       " 'ClusterPublicKey': 'ssh-rsa AAAAB3NzaC1yc2EAAAADAQABAAABAQDseUvr+NeNrIYdhWKbYHJObjkx/8MCjjEtuUi35Tf+N4C4YH41Ss5vDRcHGbU2sUwYeJEGcdvbLPKwv38YJylkvWPXYgP+T3dTSgJ7Tsusy2JzmpCDQ7DH1l4i+Pa8DpatWFp++61eFbCSZlOBpL89yUtmSVbmNMEcErMnPnyE0ilQ+94KDGxuR/clPZu8TzlpMR8eg66kxSPzgw9Ry0fB5yKoyq89gtnTBzjVKbE4CL2+PX884hMDdktktsfj0sxnZ+sWZ1+wIoVcYUMErtZzgZeUyKAFKx685IUaPj1ToeQDPPe5VyGBKh3CJTgdlc5oiOMYSEfbfhAVwTqfoc0t Amazon-Redshift\\n',\n",
       " 'ClusterNodes': [{'NodeRole': 'LEADER',\n",
       "   'PrivateIPAddress': '172.31.62.48',\n",
       "   'PublicIPAddress': '54.70.145.85'},\n",
       "  {'NodeRole': 'COMPUTE-0',\n",
       "   'PrivateIPAddress': '172.31.60.11',\n",
       "   'PublicIPAddress': '34.212.5.246'},\n",
       "  {'NodeRole': 'COMPUTE-1',\n",
       "   'PrivateIPAddress': '172.31.55.84',\n",
       "   'PublicIPAddress': '52.12.167.207'}],\n",
       " 'ClusterRevisionNumber': '39734',\n",
       " 'Tags': [],\n",
       " 'EnhancedVpcRouting': False,\n",
       " 'IamRoles': [{'IamRoleArn': 'arn:aws:iam::308990863356:role/capstoneRole',\n",
       "   'ApplyStatus': 'in-sync'}],\n",
       " 'MaintenanceTrackName': 'current',\n",
       " 'ElasticResizeNumberOfNodeOptions': '[4]'}"
      ]
     },
     "execution_count": 23,
     "metadata": {},
     "output_type": "execute_result"
    }
   ],
   "source": [
    "redshift_cluster_status(redshift_client, verbose=True)"
   ]
  },
  {
   "cell_type": "code",
   "execution_count": null,
   "metadata": {
    "editable": true
   },
   "outputs": [],
   "source": []
  }
 ],
 "metadata": {
  "kernelspec": {
   "display_name": "Python 3",
   "language": "python",
   "name": "python3"
  },
  "language_info": {
   "codemirror_mode": {
    "name": "ipython",
    "version": 3
   },
   "file_extension": ".py",
   "mimetype": "text/x-python",
   "name": "python",
   "nbconvert_exporter": "python",
   "pygments_lexer": "ipython3",
   "version": "3.6.3"
  }
 },
 "nbformat": 4,
 "nbformat_minor": 4
}
