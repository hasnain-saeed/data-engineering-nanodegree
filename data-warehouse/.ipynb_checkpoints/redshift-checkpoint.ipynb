{
 "cells": [
  {
   "cell_type": "code",
   "execution_count": 1,
   "metadata": {
    "editable": true
   },
   "outputs": [],
   "source": [
    "import boto3\n",
    "import json\n",
    "import pandas as pd\n",
    "import configparser"
   ]
  },
  {
   "cell_type": "code",
   "execution_count": 2,
   "metadata": {
    "editable": true
   },
   "outputs": [],
   "source": [
    "config = configparser.ConfigParser()\n",
    "config.read_file(open('dwh.cfg'))"
   ]
  },
  {
   "cell_type": "code",
   "execution_count": 3,
   "metadata": {
    "editable": true
   },
   "outputs": [],
   "source": [
    "def create_aws_clients():\n",
    "    iam_client = boto3.client('iam',\n",
    "                       region_name=config.get('AWS','REGION'),\n",
    "                       aws_access_key_id=config.get('AWS','KEY'),\n",
    "                       aws_secret_access_key=config.get('AWS','SECRET')\n",
    "                      )\n",
    "\n",
    "    redshift_client = boto3.client('redshift',\n",
    "                            region_name=config.get('AWS','REGION'),\n",
    "                            aws_access_key_id=config.get('AWS','KEY'),\n",
    "                            aws_secret_access_key=config.get('AWS','SECRET')\n",
    "                           )\n",
    "    \n",
    "    ec2_client = boto3.resource('ec2',\n",
    "                       region_name=config.get('AWS','REGION'),\n",
    "                       aws_access_key_id=config.get('AWS','KEY'),\n",
    "                       aws_secret_access_key=config.get('AWS','SECRET')\n",
    "                      )\n",
    "    return iam_client, redshift_client, ec2_client"
   ]
  },
  {
   "cell_type": "code",
   "execution_count": 4,
   "metadata": {
    "editable": true
   },
   "outputs": [],
   "source": [
    "def create_iam_role(iam_client):\n",
    "    try:\n",
    "        print('===== Creating a new IAM Role =====')\n",
    "        iam_client.create_role(\n",
    "            Path='/',\n",
    "            RoleName=config.get('IAM_ROLE','IAM_ROLE_NAME'),\n",
    "            Description = \"Allows Redshift clusters to call AWS services on your behalf.\",\n",
    "            AssumeRolePolicyDocument=json.dumps(\n",
    "                {\n",
    "                    'Statement': [{\n",
    "                        'Action': 'sts:AssumeRole',\n",
    "                        'Effect': 'Allow',\n",
    "                        'Principal': {\n",
    "                            'Service': 'redshift.amazonaws.com'\n",
    "                        }\n",
    "                    }],\n",
    "                    'Version': '2012-10-17'\n",
    "                }\n",
    "            )\n",
    "        )\n",
    "        \n",
    "        print('===== Attaching AmazonS3ReadOnlyAccess policy with the IAM Role =====')\n",
    "        iam_client.attach_role_policy(\n",
    "            RoleName=config.get('IAM_ROLE','IAM_ROLE_NAME'),\n",
    "            PolicyArn=\"arn:aws:iam::aws:policy/AmazonS3ReadOnlyAccess\"\n",
    "        )\n",
    "\n",
    "    except Exception as e:\n",
    "        print(e)"
   ]
  },
  {
   "cell_type": "code",
   "execution_count": 5,
   "metadata": {
    "editable": true
   },
   "outputs": [],
   "source": [
    "def create_redshift_cluster(iam_client, redshift_client):\n",
    "    roleArn = iam_client.get_role(RoleName=config.get('IAM_ROLE','IAM_ROLE_NAME'))['Role']['Arn']\n",
    "    if not roleArn:\n",
    "        return\n",
    "    \n",
    "    try:\n",
    "        response = redshift_client.create_cluster(        \n",
    "            #HW\n",
    "            ClusterType=config.get('DWH','CLUSTER_TYPE'),\n",
    "            NodeType=config.get('DWH','NODE_TYPE'),\n",
    "            NumberOfNodes=int(config.get('DWH','NUM_NODES')),\n",
    "\n",
    "            #Identifiers & Credentials\n",
    "            DBName=config.get('CLUSTER','DB_NAME'),\n",
    "            ClusterIdentifier=config.get('CLUSTER','CLUSTER_IDENTIFIER'),\n",
    "            MasterUsername=config.get('CLUSTER','DB_USER'),\n",
    "            MasterUserPassword=config.get('CLUSTER','DB_PASSWORD'),\n",
    "\n",
    "            #Roles (for s3 access)\n",
    "            IamRoles=[roleArn]  \n",
    "        )\n",
    "        print(\"==== Creating Redshift Cluster =====\")\n",
    "    except Exception as e:\n",
    "        print(e)"
   ]
  },
  {
   "cell_type": "code",
   "execution_count": 6,
   "metadata": {
    "editable": true
   },
   "outputs": [],
   "source": [
    "def pretty_redshift_props(props):\n",
    "    pd.set_option('display.max_colwidth', -1)\n",
    "    keys_to_show = [\"ClusterIdentifier\", \"NodeType\", \"ClusterStatus\", \"MasterUsername\", \"DBName\", \"Endpoint\", \"NumberOfNodes\", 'VpcId']\n",
    "    x = [(k, v) for k,v in props.items() if k in keys_to_show]\n",
    "    return pd.DataFrame(data=x, columns=[\"Key\", \"Value\"])"
   ]
  },
  {
   "cell_type": "code",
   "execution_count": 7,
   "metadata": {
    "editable": true
   },
   "outputs": [],
   "source": [
    "def redshift_cluster_status(redshift_client, verbose=False):\n",
    "    if not redshift_client:\n",
    "        return\n",
    "    \n",
    "    cluster_props = redshift_client.describe_clusters(ClusterIdentifier=config.get('CLUSTER','CLUSTER_IDENTIFIER'))['Clusters'][0]\n",
    "    if verbose:\n",
    "        print(pretty_redshift_props(cluster_props))\n",
    "    return cluster_props"
   ]
  },
  {
   "cell_type": "code",
   "execution_count": 8,
   "metadata": {
    "editable": true
   },
   "outputs": [],
   "source": [
    "def create_aws_resources():\n",
    "    iam_client = None\n",
    "    redshift_client = None\n",
    "    ec2_client = None\n",
    "    if not iam_client and not redshift_client:\n",
    "        iam_client, redshift_client, ec2_client = create_aws_clients()\n",
    "\n",
    "    iam_role = create_iam_role(iam_client)\n",
    "\n",
    "    create_redshift_cluster(iam_client, redshift_client)\n",
    "    return iam_client, redshift_client, ec2_client"
   ]
  },
  {
   "cell_type": "code",
   "execution_count": 9,
   "metadata": {
    "editable": true
   },
   "outputs": [],
   "source": [
    "def open_access_to_cluster(ec2_client, redshift_client):\n",
    "    cluster_props = redshift_cluster_status(redshift_client)\n",
    "    if not cluster_props:\n",
    "        return\n",
    "    \n",
    "    try:\n",
    "        vpc = ec2_client.Vpc(id=cluster_props['VpcId'])\n",
    "        defaultSg = list(vpc.security_groups.all())[0]\n",
    "        print(defaultSg)\n",
    "        port = int(config.get('CLUSTER','DB_PORT'))\n",
    "        defaultSg.authorize_ingress(\n",
    "            GroupName=defaultSg.group_name,\n",
    "            CidrIp='0.0.0.0/0',\n",
    "            IpProtocol='TCP',\n",
    "            FromPort=port,\n",
    "            ToPort=port\n",
    "        )\n",
    "    except Exception as e:\n",
    "        print(e)"
   ]
  },
  {
   "cell_type": "code",
   "execution_count": 10,
   "metadata": {
    "editable": true
   },
   "outputs": [],
   "source": [
    "def delete_aws_resources(iam_client, redshift_client):\n",
    "    if not redshift_client and not iam_client:\n",
    "        return\n",
    "    \n",
    "    redshift_client.delete_cluster(ClusterIdentifier=config.get('CLUSTER','CLUSTER_IDENTIFIER'), SkipFinalClusterSnapshot=True)\n",
    "    iam_client.detach_role_policy(RoleName=config.get('IAM_ROLE','IAM_ROLE_NAME'), PolicyArn=\"arn:aws:iam::aws:policy/AmazonS3ReadOnlyAccess\")\n",
    "    iam_client.delete_role(RoleName=config.get('IAM_ROLE','IAM_ROLE_NAME'))"
   ]
  },
  {
   "cell_type": "code",
   "execution_count": 11,
   "metadata": {
    "editable": true
   },
   "outputs": [
    {
     "name": "stdout",
     "output_type": "stream",
     "text": [
      "===== Creating a new IAM Role =====\n",
      "===== Attaching AmazonS3ReadOnlyAccess policy with the IAM Role =====\n",
      "==== Creating Redshift Cluster =====\n"
     ]
    }
   ],
   "source": [
    "iam_client, redshift_client, ec2_client = create_aws_resources()"
   ]
  },
  {
   "cell_type": "code",
   "execution_count": 14,
   "metadata": {
    "editable": true
   },
   "outputs": [
    {
     "name": "stdout",
     "output_type": "stream",
     "text": [
      "ec2.SecurityGroup(id='sg-0fe4689831c2becd0')\n",
      "An error occurred (InvalidPermission.Duplicate) when calling the AuthorizeSecurityGroupIngress operation: the specified rule \"peer: 0.0.0.0/0, TCP, from port: 5439, to port: 5439, ALLOW\" already exists\n"
     ]
    }
   ],
   "source": [
    "open_access_to_cluster(ec2_client, redshift_client)"
   ]
  },
  {
   "cell_type": "code",
   "execution_count": 21,
   "metadata": {
    "editable": true
   },
   "outputs": [],
   "source": [
    "delete_aws_resources(iam_client, redshift_client)"
   ]
  },
  {
   "cell_type": "code",
   "execution_count": 15,
   "metadata": {
    "editable": true
   },
   "outputs": [
    {
     "name": "stdout",
     "output_type": "stream",
     "text": [
      "                 Key  \\\n",
      "0  ClusterIdentifier   \n",
      "1  NodeType            \n",
      "2  ClusterStatus       \n",
      "3  MasterUsername      \n",
      "4  DBName              \n",
      "5  Endpoint            \n",
      "6  VpcId               \n",
      "7  NumberOfNodes       \n",
      "\n",
      "                                                                                   Value  \n",
      "0  dwhcluster                                                                             \n",
      "1  dc2.large                                                                              \n",
      "2  available                                                                              \n",
      "3  dwhuser                                                                                \n",
      "4  dwh                                                                                    \n",
      "5  {'Address': 'dwhcluster.ciwxovjrk2is.us-west-2.redshift.amazonaws.com', 'Port': 5439}  \n",
      "6  vpc-0566300b60bf5d64f                                                                  \n",
      "7  2                                                                                      \n"
     ]
    },
    {
     "data": {
      "text/plain": [
       "{'ClusterIdentifier': 'dwhcluster',\n",
       " 'NodeType': 'dc2.large',\n",
       " 'ClusterStatus': 'available',\n",
       " 'MasterUsername': 'dwhuser',\n",
       " 'DBName': 'dwh',\n",
       " 'Endpoint': {'Address': 'dwhcluster.ciwxovjrk2is.us-west-2.redshift.amazonaws.com',\n",
       "  'Port': 5439},\n",
       " 'ClusterCreateTime': datetime.datetime(2022, 3, 22, 9, 34, 31, 122000, tzinfo=tzlocal()),\n",
       " 'AutomatedSnapshotRetentionPeriod': 1,\n",
       " 'ClusterSecurityGroups': [],\n",
       " 'VpcSecurityGroups': [{'VpcSecurityGroupId': 'sg-0fe4689831c2becd0',\n",
       "   'Status': 'active'}],\n",
       " 'ClusterParameterGroups': [{'ParameterGroupName': 'default.redshift-1.0',\n",
       "   'ParameterApplyStatus': 'in-sync'}],\n",
       " 'ClusterSubnetGroupName': 'default',\n",
       " 'VpcId': 'vpc-0566300b60bf5d64f',\n",
       " 'AvailabilityZone': 'us-west-2c',\n",
       " 'PreferredMaintenanceWindow': 'mon:09:00-mon:09:30',\n",
       " 'PendingModifiedValues': {},\n",
       " 'ClusterVersion': '1.0',\n",
       " 'AllowVersionUpgrade': True,\n",
       " 'NumberOfNodes': 2,\n",
       " 'PubliclyAccessible': True,\n",
       " 'Encrypted': False,\n",
       " 'ClusterPublicKey': 'ssh-rsa AAAAB3NzaC1yc2EAAAADAQABAAABAQC8GDly1VcTyHm7oSOxSq5L5XWJCcdxH6epGF76K8GeMcU+BfVGlIQHzwitYqCtMiyRlehDfBs7m+Nsdqo+MfqTfAxXIbS6WmP9sKiKPn5Lw2D3SRDoUuSMbXEqi7zBv0qrdAc3XWDJLmmtLKf0/kz9MbSM1wMryYFs61p9m7LHBjIDzK0kR78pe3ss0+u9SZH2G/iZMCB9qan9iVc/buydmySnDjfAJvX4yqLL/4loDewOefS6iMbSeHYohX/SDcGSnuOt8soLKuesxVKA/MKM18MrxWVQOHrh7/KDV5Zp2LteObtsCHDsRBk/piV2/KRjmuVK9ObddtZvcm2AdRe/ Amazon-Redshift\\n',\n",
       " 'ClusterNodes': [{'NodeRole': 'LEADER',\n",
       "   'PrivateIPAddress': '172.31.0.109',\n",
       "   'PublicIPAddress': '54.188.55.176'},\n",
       "  {'NodeRole': 'COMPUTE-0',\n",
       "   'PrivateIPAddress': '172.31.3.230',\n",
       "   'PublicIPAddress': '54.218.226.84'},\n",
       "  {'NodeRole': 'COMPUTE-1',\n",
       "   'PrivateIPAddress': '172.31.14.241',\n",
       "   'PublicIPAddress': '50.112.118.60'}],\n",
       " 'ClusterRevisionNumber': '36224',\n",
       " 'Tags': [],\n",
       " 'EnhancedVpcRouting': False,\n",
       " 'IamRoles': [{'IamRoleArn': 'arn:aws:iam::300555160879:role/dwhRole',\n",
       "   'ApplyStatus': 'in-sync'}],\n",
       " 'MaintenanceTrackName': 'current',\n",
       " 'ElasticResizeNumberOfNodeOptions': '[4]'}"
      ]
     },
     "execution_count": 15,
     "metadata": {},
     "output_type": "execute_result"
    }
   ],
   "source": [
    "redshift_cluster_status(redshift_client, verbose=True)"
   ]
  },
  {
   "cell_type": "code",
   "execution_count": null,
   "metadata": {
    "editable": true
   },
   "outputs": [],
   "source": []
  }
 ],
 "metadata": {
  "kernelspec": {
   "display_name": "Python 3",
   "language": "python",
   "name": "python3"
  },
  "language_info": {
   "codemirror_mode": {
    "name": "ipython",
    "version": 3
   },
   "file_extension": ".py",
   "mimetype": "text/x-python",
   "name": "python",
   "nbconvert_exporter": "python",
   "pygments_lexer": "ipython3",
   "version": "3.6.3"
  }
 },
 "nbformat": 4,
 "nbformat_minor": 4
}
